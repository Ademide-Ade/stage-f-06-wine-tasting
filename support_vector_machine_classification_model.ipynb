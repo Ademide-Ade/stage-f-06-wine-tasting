{
  "nbformat": 4,
  "nbformat_minor": 0,
  "metadata": {
    "colab": {
      "name": "support-vector-machine-classification-model.ipynb",
      "provenance": [],
      "include_colab_link": true
    },
    "kernelspec": {
      "display_name": "Python 3",
      "language": "python",
      "name": "python3"
    },
    "language_info": {
      "codemirror_mode": {
        "name": "ipython",
        "version": 3
      },
      "file_extension": ".py",
      "mimetype": "text/x-python",
      "name": "python",
      "nbconvert_exporter": "python",
      "pygments_lexer": "ipython3",
      "version": "3.7.6"
    }
  },
  "cells": [
    {
      "cell_type": "markdown",
      "metadata": {
        "id": "view-in-github",
        "colab_type": "text"
      },
      "source": [
        "<a href=\"https://colab.research.google.com/github/Ademide-Ade/stage-f-06-wine-tasting/blob/master/support_vector_machine_classification_model.ipynb\" target=\"_parent\"><img src=\"https://colab.research.google.com/assets/colab-badge.svg\" alt=\"Open In Colab\"/></a>"
      ]
    },
    {
      "cell_type": "markdown",
      "metadata": {
        "id": "DcGUsU3XSI4H"
      },
      "source": [
        "# Support Vector Classification Model"
      ]
    },
    {
      "cell_type": "code",
      "metadata": {
        "id": "TpJMp-oASI4Z",
        "colab": {
          "background_save": true
        }
      },
      "source": [
        "# importing useful libraries\n",
        "import numpy as np\n",
        "import pandas as pd\n",
        "import matplotlib.pyplot as plt\n",
        "import seaborn as sns\n",
        "\n",
        "import warnings\n",
        "warnings.filterwarnings('ignore')\n",
        "\n",
        "%matplotlib inline"
      ],
      "execution_count": null,
      "outputs": []
    },
    {
      "cell_type": "markdown",
      "metadata": {
        "id": "AwSqVRR2SI43"
      },
      "source": [
        "## Loading in our selected top varieties data "
      ]
    },
    {
      "cell_type": "code",
      "metadata": {
        "id": "e0JD8-oxSI5C",
        "outputId": "f83d71cc-7662-46b7-f548-f1cdc98cf6ec",
        "colab": {
          "background_save": true,
          "base_uri": "https://localhost:8080/",
          "height": 306
        }
      },
      "source": [
        "df2 = pd.read_csv('https://raw.githubusercontent.com/Jolomi-Tosanwumi/stage-f-06-wine-tasting/master/data/winemag-data-130k-v2.csv')\n",
        "top_varieties_count = pd.read_csv('https://raw.github.com/HamoyeHQ/stage-f-06-wine-tasting/master/data/top_varieties_count.csv')\n",
        "top_40_varieties = pd.read_csv('https://raw.github.com/HamoyeHQ/stage-f-06-wine-tasting/master/data/top_40_varieties.zip')\n",
        "top_40_varieties.head(2)"
      ],
      "execution_count": null,
      "outputs": [
        {
          "output_type": "execute_result",
          "data": {
            "text/html": [
              "<div>\n",
              "<style scoped>\n",
              "    .dataframe tbody tr th:only-of-type {\n",
              "        vertical-align: middle;\n",
              "    }\n",
              "\n",
              "    .dataframe tbody tr th {\n",
              "        vertical-align: top;\n",
              "    }\n",
              "\n",
              "    .dataframe thead th {\n",
              "        text-align: right;\n",
              "    }\n",
              "</style>\n",
              "<table border=\"1\" class=\"dataframe\">\n",
              "  <thead>\n",
              "    <tr style=\"text-align: right;\">\n",
              "      <th></th>\n",
              "      <th>country</th>\n",
              "      <th>description</th>\n",
              "      <th>designation</th>\n",
              "      <th>points</th>\n",
              "      <th>price</th>\n",
              "      <th>province</th>\n",
              "      <th>region_1</th>\n",
              "      <th>region_2</th>\n",
              "      <th>taster_name</th>\n",
              "      <th>taster_twitter_handle</th>\n",
              "      <th>title</th>\n",
              "      <th>variety</th>\n",
              "      <th>winery</th>\n",
              "      <th>not_vintage</th>\n",
              "      <th>vintage</th>\n",
              "    </tr>\n",
              "  </thead>\n",
              "  <tbody>\n",
              "    <tr>\n",
              "      <th>0</th>\n",
              "      <td>Italy</td>\n",
              "      <td>Aromas include tropical fruit, broom, brimston...</td>\n",
              "      <td>Vulkà Bianco</td>\n",
              "      <td>87</td>\n",
              "      <td>NaN</td>\n",
              "      <td>Sicily &amp; Sardinia</td>\n",
              "      <td>Etna</td>\n",
              "      <td>NaN</td>\n",
              "      <td>Kerin O’Keefe</td>\n",
              "      <td>@kerinokeefe</td>\n",
              "      <td>Nicosia 2013 Vulkà Bianco  (Etna)</td>\n",
              "      <td>White Blend</td>\n",
              "      <td>Nicosia</td>\n",
              "      <td>Italy Vulkà Bianco Sicily &amp; Sardinia Etna Nicosia</td>\n",
              "      <td>2013.0</td>\n",
              "    </tr>\n",
              "    <tr>\n",
              "      <th>1</th>\n",
              "      <td>Portugal</td>\n",
              "      <td>This is ripe and fruity, a wine that is smooth...</td>\n",
              "      <td>Avidagos</td>\n",
              "      <td>87</td>\n",
              "      <td>15.0</td>\n",
              "      <td>Douro</td>\n",
              "      <td>NaN</td>\n",
              "      <td>NaN</td>\n",
              "      <td>Roger Voss</td>\n",
              "      <td>@vossroger</td>\n",
              "      <td>Quinta dos Avidagos 2011 Avidagos Red (Douro)</td>\n",
              "      <td>Portuguese Red</td>\n",
              "      <td>Quinta dos Avidagos</td>\n",
              "      <td>Portugal Avidagos Douro Quinta dos Avidagos</td>\n",
              "      <td>2011.0</td>\n",
              "    </tr>\n",
              "  </tbody>\n",
              "</table>\n",
              "</div>"
            ],
            "text/plain": [
              "    country  ... vintage\n",
              "0     Italy  ...  2013.0\n",
              "1  Portugal  ...  2011.0\n",
              "\n",
              "[2 rows x 15 columns]"
            ]
          },
          "metadata": {
            "tags": []
          },
          "execution_count": 0
        }
      ]
    },
    {
      "cell_type": "code",
      "metadata": {
        "id": "G5x3PWtgSI5V",
        "outputId": "8416e77b-dbad-4dc5-d21c-b2b8b578e7b3",
        "colab": {
          "background_save": true,
          "base_uri": "https://localhost:8080/"
        }
      },
      "source": [
        "# renaming the columns in top_varieties_count\n",
        "top_varieties_count = top_varieties_count.rename(columns={'variety': 'count', 'Unnamed: 0': 'variety'})\n",
        "top_varieties_count = top_varieties_count.set_index('variety') # setting the index\n",
        "top_varieties_count = top_varieties_count['count'] # making it a Series\n",
        "top_varieties_count"
      ],
      "execution_count": null,
      "outputs": [
        {
          "output_type": "execute_result",
          "data": {
            "text/plain": [
              "variety\n",
              "Pinot Noir                       13272\n",
              "Chardonnay                       11753\n",
              "Cabernet Sauvignon                9472\n",
              "Red Blend                         8946\n",
              "Bordeaux-style Red Blend          6915\n",
              "Riesling                          5189\n",
              "Sauvignon Blanc                   4967\n",
              "Syrah                             4142\n",
              "Rosé                              3564\n",
              "Merlot                            3102\n",
              "Nebbiolo                          2804\n",
              "Zinfandel                         2714\n",
              "Sangiovese                        2707\n",
              "Malbec                            2652\n",
              "Portuguese Red                    2466\n",
              "White Blend                       2360\n",
              "Sparkling Blend                   2153\n",
              "Tempranillo                       1810\n",
              "Rhône-style Red Blend             1471\n",
              "Pinot Gris                        1455\n",
              "Champagne Blend                   1396\n",
              "Cabernet Franc                    1353\n",
              "Grüner Veltliner                  1345\n",
              "Portuguese White                  1159\n",
              "Bordeaux-style White Blend        1066\n",
              "Pinot Grigio                      1052\n",
              "Gamay                             1025\n",
              "Gewürztraminer                    1012\n",
              "Viognier                           996\n",
              "Shiraz                             836\n",
              "Petite Sirah                       770\n",
              "Sangiovese Grosso                  751\n",
              "Barbera                            721\n",
              "Glera                              709\n",
              "Port                               668\n",
              "Grenache                           651\n",
              "Corvina, Rondinella, Molinara      619\n",
              "Chenin Blanc                       591\n",
              "Tempranillo Blend                  588\n",
              "Carmenère                          575\n",
              "Name: count, dtype: int64"
            ]
          },
          "metadata": {
            "tags": []
          },
          "execution_count": 0
        }
      ]
    },
    {
      "cell_type": "markdown",
      "metadata": {
        "id": "Ygr9AuI1SI5n"
      },
      "source": [
        "## We will be selecting the top 20 varireties as our working varieties"
      ]
    },
    {
      "cell_type": "code",
      "metadata": {
        "id": "CRhvTtLVSI5q",
        "outputId": "266586bf-dc25-4ff6-aabd-a7b23c563c7f",
        "colab": {
          "background_save": true,
          "base_uri": "https://localhost:8080/",
          "height": 343
        }
      },
      "source": [
        "top = 20 # selecting top n varities as our working varieties. note 1 < n <= 40\n",
        "\n",
        "# making a datframe of our selecting top n varieties\n",
        "top_df = top_40_varieties[top_40_varieties['variety'].isin(top_varieties_count.iloc[:top].index)]\n",
        "print('percentage of initial 130k dataframe is {}%'.format(round(100*top_df.shape[0] / df2.shape[0]), 3))\n",
        "print(len(top_df['variety'].unique()))\n",
        "top_df.head(2)"
      ],
      "execution_count": null,
      "outputs": [
        {
          "output_type": "stream",
          "text": [
            "percentage of initial 130k dataframe is 72%\n",
            "20\n"
          ],
          "name": "stdout"
        },
        {
          "output_type": "execute_result",
          "data": {
            "text/html": [
              "<div>\n",
              "<style scoped>\n",
              "    .dataframe tbody tr th:only-of-type {\n",
              "        vertical-align: middle;\n",
              "    }\n",
              "\n",
              "    .dataframe tbody tr th {\n",
              "        vertical-align: top;\n",
              "    }\n",
              "\n",
              "    .dataframe thead th {\n",
              "        text-align: right;\n",
              "    }\n",
              "</style>\n",
              "<table border=\"1\" class=\"dataframe\">\n",
              "  <thead>\n",
              "    <tr style=\"text-align: right;\">\n",
              "      <th></th>\n",
              "      <th>country</th>\n",
              "      <th>description</th>\n",
              "      <th>designation</th>\n",
              "      <th>points</th>\n",
              "      <th>price</th>\n",
              "      <th>province</th>\n",
              "      <th>region_1</th>\n",
              "      <th>region_2</th>\n",
              "      <th>taster_name</th>\n",
              "      <th>taster_twitter_handle</th>\n",
              "      <th>title</th>\n",
              "      <th>variety</th>\n",
              "      <th>winery</th>\n",
              "      <th>not_vintage</th>\n",
              "      <th>vintage</th>\n",
              "    </tr>\n",
              "  </thead>\n",
              "  <tbody>\n",
              "    <tr>\n",
              "      <th>0</th>\n",
              "      <td>Italy</td>\n",
              "      <td>Aromas include tropical fruit, broom, brimston...</td>\n",
              "      <td>Vulkà Bianco</td>\n",
              "      <td>87</td>\n",
              "      <td>NaN</td>\n",
              "      <td>Sicily &amp; Sardinia</td>\n",
              "      <td>Etna</td>\n",
              "      <td>NaN</td>\n",
              "      <td>Kerin O’Keefe</td>\n",
              "      <td>@kerinokeefe</td>\n",
              "      <td>Nicosia 2013 Vulkà Bianco  (Etna)</td>\n",
              "      <td>White Blend</td>\n",
              "      <td>Nicosia</td>\n",
              "      <td>Italy Vulkà Bianco Sicily &amp; Sardinia Etna Nicosia</td>\n",
              "      <td>2013.0</td>\n",
              "    </tr>\n",
              "    <tr>\n",
              "      <th>1</th>\n",
              "      <td>Portugal</td>\n",
              "      <td>This is ripe and fruity, a wine that is smooth...</td>\n",
              "      <td>Avidagos</td>\n",
              "      <td>87</td>\n",
              "      <td>15.0</td>\n",
              "      <td>Douro</td>\n",
              "      <td>NaN</td>\n",
              "      <td>NaN</td>\n",
              "      <td>Roger Voss</td>\n",
              "      <td>@vossroger</td>\n",
              "      <td>Quinta dos Avidagos 2011 Avidagos Red (Douro)</td>\n",
              "      <td>Portuguese Red</td>\n",
              "      <td>Quinta dos Avidagos</td>\n",
              "      <td>Portugal Avidagos Douro Quinta dos Avidagos</td>\n",
              "      <td>2011.0</td>\n",
              "    </tr>\n",
              "  </tbody>\n",
              "</table>\n",
              "</div>"
            ],
            "text/plain": [
              "    country  ... vintage\n",
              "0     Italy  ...  2013.0\n",
              "1  Portugal  ...  2011.0\n",
              "\n",
              "[2 rows x 15 columns]"
            ]
          },
          "metadata": {
            "tags": []
          },
          "execution_count": 0
        }
      ]
    },
    {
      "cell_type": "code",
      "metadata": {
        "id": "ylFbxWc7SI56",
        "outputId": "b209bbe8-e8c7-42d5-ba4a-e4b64eb1c605",
        "colab": {
          "background_save": true,
          "base_uri": "https://localhost:8080/",
          "height": 343
        }
      },
      "source": [
        "# threshold of miniority variety to over sample (use sentences as document instead of the whole description)\n",
        "minority_threshold = 5000 \n",
        "\n",
        "# making a dataframe of the miniority classes\n",
        "minority_df = top_df[top_df['variety'].isin(top_varieties_count[top_varieties_count < \\\n",
        "                                                                      minority_threshold].index)]\n",
        "print(minority_df.shape)\n",
        "print(len(minority_df['variety'].unique()))\n",
        "minority_df.head(2)"
      ],
      "execution_count": null,
      "outputs": [
        {
          "output_type": "stream",
          "text": [
            "(38367, 15)\n",
            "14\n"
          ],
          "name": "stdout"
        },
        {
          "output_type": "execute_result",
          "data": {
            "text/html": [
              "<div>\n",
              "<style scoped>\n",
              "    .dataframe tbody tr th:only-of-type {\n",
              "        vertical-align: middle;\n",
              "    }\n",
              "\n",
              "    .dataframe tbody tr th {\n",
              "        vertical-align: top;\n",
              "    }\n",
              "\n",
              "    .dataframe thead th {\n",
              "        text-align: right;\n",
              "    }\n",
              "</style>\n",
              "<table border=\"1\" class=\"dataframe\">\n",
              "  <thead>\n",
              "    <tr style=\"text-align: right;\">\n",
              "      <th></th>\n",
              "      <th>country</th>\n",
              "      <th>description</th>\n",
              "      <th>designation</th>\n",
              "      <th>points</th>\n",
              "      <th>price</th>\n",
              "      <th>province</th>\n",
              "      <th>region_1</th>\n",
              "      <th>region_2</th>\n",
              "      <th>taster_name</th>\n",
              "      <th>taster_twitter_handle</th>\n",
              "      <th>title</th>\n",
              "      <th>variety</th>\n",
              "      <th>winery</th>\n",
              "      <th>not_vintage</th>\n",
              "      <th>vintage</th>\n",
              "    </tr>\n",
              "  </thead>\n",
              "  <tbody>\n",
              "    <tr>\n",
              "      <th>0</th>\n",
              "      <td>Italy</td>\n",
              "      <td>Aromas include tropical fruit, broom, brimston...</td>\n",
              "      <td>Vulkà Bianco</td>\n",
              "      <td>87</td>\n",
              "      <td>NaN</td>\n",
              "      <td>Sicily &amp; Sardinia</td>\n",
              "      <td>Etna</td>\n",
              "      <td>NaN</td>\n",
              "      <td>Kerin O’Keefe</td>\n",
              "      <td>@kerinokeefe</td>\n",
              "      <td>Nicosia 2013 Vulkà Bianco  (Etna)</td>\n",
              "      <td>White Blend</td>\n",
              "      <td>Nicosia</td>\n",
              "      <td>Italy Vulkà Bianco Sicily &amp; Sardinia Etna Nicosia</td>\n",
              "      <td>2013.0</td>\n",
              "    </tr>\n",
              "    <tr>\n",
              "      <th>1</th>\n",
              "      <td>Portugal</td>\n",
              "      <td>This is ripe and fruity, a wine that is smooth...</td>\n",
              "      <td>Avidagos</td>\n",
              "      <td>87</td>\n",
              "      <td>15.0</td>\n",
              "      <td>Douro</td>\n",
              "      <td>NaN</td>\n",
              "      <td>NaN</td>\n",
              "      <td>Roger Voss</td>\n",
              "      <td>@vossroger</td>\n",
              "      <td>Quinta dos Avidagos 2011 Avidagos Red (Douro)</td>\n",
              "      <td>Portuguese Red</td>\n",
              "      <td>Quinta dos Avidagos</td>\n",
              "      <td>Portugal Avidagos Douro Quinta dos Avidagos</td>\n",
              "      <td>2011.0</td>\n",
              "    </tr>\n",
              "  </tbody>\n",
              "</table>\n",
              "</div>"
            ],
            "text/plain": [
              "    country  ... vintage\n",
              "0     Italy  ...  2013.0\n",
              "1  Portugal  ...  2011.0\n",
              "\n",
              "[2 rows x 15 columns]"
            ]
          },
          "metadata": {
            "tags": []
          },
          "execution_count": 0
        }
      ]
    },
    {
      "cell_type": "markdown",
      "metadata": {
        "id": "yf09KA2CSI6L"
      },
      "source": [
        "# nltk and spacy are the two most popular libraries in NLP. We will just use nltk to tokenize sentences in our miniority class but for our heavy weight preprocessing, we will use spacy because it is mostly used in industries and has wealth of functionalities."
      ]
    },
    {
      "cell_type": "code",
      "metadata": {
        "id": "TLzhIg5ySI6O",
        "colab": {
          "background_save": true
        }
      },
      "source": [
        "from nltk.tokenize import sent_tokenize # importing useful library"
      ],
      "execution_count": null,
      "outputs": []
    },
    {
      "cell_type": "code",
      "metadata": {
        "id": "Q0chjFDHSI6g",
        "colab": {
          "background_save": true
        }
      },
      "source": [
        "import nltk"
      ],
      "execution_count": null,
      "outputs": []
    },
    {
      "cell_type": "code",
      "metadata": {
        "id": "HPkiBRk9SI6t",
        "colab": {
          "background_save": true
        }
      },
      "source": [
        "nltk.download('punkt')"
      ],
      "execution_count": null,
      "outputs": []
    },
    {
      "cell_type": "code",
      "metadata": {
        "id": "ihMLX7FfSI67",
        "colab": {
          "background_save": true
        }
      },
      "source": [
        "oversampled_miniority_lst = [] # empty list to store sentences as tokens miniority corpus\n",
        "\n",
        "# creating a function to use sentences as tokens for the miniority classes\n",
        "def over_sample_miniority(row):\n",
        "    doc_list = sent_tokenize(row['description'])\n",
        "    for sent in doc_list:\n",
        "        row['description'] = sent\n",
        "        oversampled_miniority_lst.append(list(row))"
      ],
      "execution_count": null,
      "outputs": []
    },
    {
      "cell_type": "code",
      "metadata": {
        "id": "a2BodZwpSI7I",
        "colab": {
          "background_save": true
        }
      },
      "source": [
        "minority_df.apply(over_sample_miniority, axis=1); # over sample the miniority classes"
      ],
      "execution_count": null,
      "outputs": []
    },
    {
      "cell_type": "code",
      "metadata": {
        "id": "UQYJh5IoSI7W",
        "outputId": "85a67b00-5d4a-4bdc-b68e-de631cc6f2ef",
        "colab": {
          "background_save": true,
          "base_uri": "https://localhost:8080/",
          "height": 289
        }
      },
      "source": [
        "# converts oversampled_miniority_lst to a dataframe\n",
        "oversampled_miniority_df = pd.DataFrame(oversampled_miniority_lst, columns=minority_df.columns)\n",
        "print(oversampled_miniority_df.shape)\n",
        "oversampled_miniority_df.head(2)"
      ],
      "execution_count": null,
      "outputs": [
        {
          "output_type": "stream",
          "text": [
            "(104101, 15)\n"
          ],
          "name": "stdout"
        },
        {
          "output_type": "execute_result",
          "data": {
            "text/html": [
              "<div>\n",
              "<style scoped>\n",
              "    .dataframe tbody tr th:only-of-type {\n",
              "        vertical-align: middle;\n",
              "    }\n",
              "\n",
              "    .dataframe tbody tr th {\n",
              "        vertical-align: top;\n",
              "    }\n",
              "\n",
              "    .dataframe thead th {\n",
              "        text-align: right;\n",
              "    }\n",
              "</style>\n",
              "<table border=\"1\" class=\"dataframe\">\n",
              "  <thead>\n",
              "    <tr style=\"text-align: right;\">\n",
              "      <th></th>\n",
              "      <th>country</th>\n",
              "      <th>description</th>\n",
              "      <th>designation</th>\n",
              "      <th>points</th>\n",
              "      <th>price</th>\n",
              "      <th>province</th>\n",
              "      <th>region_1</th>\n",
              "      <th>region_2</th>\n",
              "      <th>taster_name</th>\n",
              "      <th>taster_twitter_handle</th>\n",
              "      <th>title</th>\n",
              "      <th>variety</th>\n",
              "      <th>winery</th>\n",
              "      <th>not_vintage</th>\n",
              "      <th>vintage</th>\n",
              "    </tr>\n",
              "  </thead>\n",
              "  <tbody>\n",
              "    <tr>\n",
              "      <th>0</th>\n",
              "      <td>Italy</td>\n",
              "      <td>Aromas include tropical fruit, broom, brimston...</td>\n",
              "      <td>Vulkà Bianco</td>\n",
              "      <td>87</td>\n",
              "      <td>NaN</td>\n",
              "      <td>Sicily &amp; Sardinia</td>\n",
              "      <td>Etna</td>\n",
              "      <td>NaN</td>\n",
              "      <td>Kerin O’Keefe</td>\n",
              "      <td>@kerinokeefe</td>\n",
              "      <td>Nicosia 2013 Vulkà Bianco  (Etna)</td>\n",
              "      <td>White Blend</td>\n",
              "      <td>Nicosia</td>\n",
              "      <td>Italy Vulkà Bianco Sicily &amp; Sardinia Etna Nicosia</td>\n",
              "      <td>2013.0</td>\n",
              "    </tr>\n",
              "    <tr>\n",
              "      <th>1</th>\n",
              "      <td>Italy</td>\n",
              "      <td>The palate isn't overly expressive, offering u...</td>\n",
              "      <td>Vulkà Bianco</td>\n",
              "      <td>87</td>\n",
              "      <td>NaN</td>\n",
              "      <td>Sicily &amp; Sardinia</td>\n",
              "      <td>Etna</td>\n",
              "      <td>NaN</td>\n",
              "      <td>Kerin O’Keefe</td>\n",
              "      <td>@kerinokeefe</td>\n",
              "      <td>Nicosia 2013 Vulkà Bianco  (Etna)</td>\n",
              "      <td>White Blend</td>\n",
              "      <td>Nicosia</td>\n",
              "      <td>Italy Vulkà Bianco Sicily &amp; Sardinia Etna Nicosia</td>\n",
              "      <td>2013.0</td>\n",
              "    </tr>\n",
              "  </tbody>\n",
              "</table>\n",
              "</div>"
            ],
            "text/plain": [
              "  country  ... vintage\n",
              "0   Italy  ...  2013.0\n",
              "1   Italy  ...  2013.0\n",
              "\n",
              "[2 rows x 15 columns]"
            ]
          },
          "metadata": {
            "tags": []
          },
          "execution_count": 0
        }
      ]
    },
    {
      "cell_type": "code",
      "metadata": {
        "id": "3s3L5v01SI7p",
        "outputId": "f56170db-9a2f-41b0-f9c2-36c35fb5b4d0",
        "colab": {
          "background_save": true,
          "base_uri": "https://localhost:8080/"
        }
      },
      "source": [
        "# a view at the new descriptions of the oversampled miniority classes\n",
        "oversampled_miniority_df['description'][:5].values"
      ],
      "execution_count": null,
      "outputs": [
        {
          "output_type": "execute_result",
          "data": {
            "text/plain": [
              "array(['Aromas include tropical fruit, broom, brimstone and dried herb.',\n",
              "       \"The palate isn't overly expressive, offering unripened apple, citrus and dried sage alongside brisk acidity.\",\n",
              "       'This is ripe and fruity, a wine that is smooth while still structured.',\n",
              "       'Firm tannins are filled out with juicy red berry fruits and freshened with acidity.',\n",
              "       \"It's  already drinkable, although it will certainly be better from 2016.\"],\n",
              "      dtype=object)"
            ]
          },
          "metadata": {
            "tags": []
          },
          "execution_count": 0
        }
      ]
    },
    {
      "cell_type": "markdown",
      "metadata": {
        "id": "_4B0CgscSI75"
      },
      "source": [
        "### we see that sentences are counted as tokens instead of the whole review"
      ]
    },
    {
      "cell_type": "code",
      "metadata": {
        "id": "WuQxGyPhSI78",
        "outputId": "e1240cf1-1ed9-4337-8753-e65c0986f71c",
        "colab": {
          "background_save": true,
          "base_uri": "https://localhost:8080/",
          "height": 376
        }
      },
      "source": [
        "# selecting majority classes as a dataframe to concatenate to oversampled_miniority_lst\n",
        "majority_df = top_df[top_df['variety'].isin(\\\n",
        "                                        top_varieties_count[top_varieties_count >= minority_threshold].index)]\n",
        "\n",
        "# concatenates majority_df to oversampled_miniority_lst\n",
        "balanced_df = pd.concat([majority_df, oversampled_miniority_df]) \n",
        "balanced_df = balanced_df.reset_index().drop('index', axis=1) # resets index\n",
        "print(balanced_df.shape)\n",
        "balanced_df.head(2)"
      ],
      "execution_count": null,
      "outputs": [
        {
          "output_type": "stream",
          "text": [
            "(159648, 15)\n"
          ],
          "name": "stdout"
        },
        {
          "output_type": "execute_result",
          "data": {
            "text/html": [
              "<div>\n",
              "<style scoped>\n",
              "    .dataframe tbody tr th:only-of-type {\n",
              "        vertical-align: middle;\n",
              "    }\n",
              "\n",
              "    .dataframe tbody tr th {\n",
              "        vertical-align: top;\n",
              "    }\n",
              "\n",
              "    .dataframe thead th {\n",
              "        text-align: right;\n",
              "    }\n",
              "</style>\n",
              "<table border=\"1\" class=\"dataframe\">\n",
              "  <thead>\n",
              "    <tr style=\"text-align: right;\">\n",
              "      <th></th>\n",
              "      <th>country</th>\n",
              "      <th>description</th>\n",
              "      <th>designation</th>\n",
              "      <th>points</th>\n",
              "      <th>price</th>\n",
              "      <th>province</th>\n",
              "      <th>region_1</th>\n",
              "      <th>region_2</th>\n",
              "      <th>taster_name</th>\n",
              "      <th>taster_twitter_handle</th>\n",
              "      <th>title</th>\n",
              "      <th>variety</th>\n",
              "      <th>winery</th>\n",
              "      <th>not_vintage</th>\n",
              "      <th>vintage</th>\n",
              "    </tr>\n",
              "  </thead>\n",
              "  <tbody>\n",
              "    <tr>\n",
              "      <th>0</th>\n",
              "      <td>US</td>\n",
              "      <td>Pineapple rind, lemon pith and orange blossom ...</td>\n",
              "      <td>Reserve Late Harvest</td>\n",
              "      <td>87</td>\n",
              "      <td>13.0</td>\n",
              "      <td>Michigan</td>\n",
              "      <td>Lake Michigan Shore</td>\n",
              "      <td>NaN</td>\n",
              "      <td>Alexander Peartree</td>\n",
              "      <td>NaN</td>\n",
              "      <td>St. Julian 2013 Reserve Late Harvest Riesling ...</td>\n",
              "      <td>Riesling</td>\n",
              "      <td>St. Julian</td>\n",
              "      <td>US Reserve Late Harvest Michigan Lake Michigan...</td>\n",
              "      <td>2013.0</td>\n",
              "    </tr>\n",
              "    <tr>\n",
              "      <th>1</th>\n",
              "      <td>US</td>\n",
              "      <td>Much like the regular bottling from 2012, this...</td>\n",
              "      <td>Vintner's Reserve Wild Child Block</td>\n",
              "      <td>87</td>\n",
              "      <td>65.0</td>\n",
              "      <td>Oregon</td>\n",
              "      <td>Willamette Valley</td>\n",
              "      <td>Willamette Valley</td>\n",
              "      <td>Paul Gregutt</td>\n",
              "      <td>@paulgwine</td>\n",
              "      <td>Sweet Cheeks 2012 Vintner's Reserve Wild Child...</td>\n",
              "      <td>Pinot Noir</td>\n",
              "      <td>Sweet Cheeks</td>\n",
              "      <td>US Vintner's Reserve Wild Child Block Oregon W...</td>\n",
              "      <td>2012.0</td>\n",
              "    </tr>\n",
              "  </tbody>\n",
              "</table>\n",
              "</div>"
            ],
            "text/plain": [
              "  country  ... vintage\n",
              "0      US  ...  2013.0\n",
              "1      US  ...  2012.0\n",
              "\n",
              "[2 rows x 15 columns]"
            ]
          },
          "metadata": {
            "tags": []
          },
          "execution_count": 0
        }
      ]
    },
    {
      "cell_type": "code",
      "metadata": {
        "id": "33nKhQFCSI8K",
        "outputId": "0d2a988e-689e-412e-80ca-7af7936cd6ea",
        "colab": {
          "background_save": true,
          "base_uri": "https://localhost:8080/"
        }
      },
      "source": [
        "balanced_variety = balanced_df['variety'].value_counts() # gets a Series of the variety count in balanced_df\n",
        "balanced_variety"
      ],
      "execution_count": null,
      "outputs": [
        {
          "output_type": "execute_result",
          "data": {
            "text/plain": [
              "Pinot Noir                  13272\n",
              "Sauvignon Blanc             12801\n",
              "Chardonnay                  11753\n",
              "Syrah                       11128\n",
              "Cabernet Sauvignon           9472\n",
              "Rosé                         9207\n",
              "Red Blend                    8946\n",
              "Nebbiolo                     8107\n",
              "Malbec                       8047\n",
              "Merlot                       7874\n",
              "Portuguese Red               7734\n",
              "Sangiovese                   7432\n",
              "Bordeaux-style Red Blend     6915\n",
              "Zinfandel                    6512\n",
              "White Blend                  6034\n",
              "Sparkling Blend              5740\n",
              "Tempranillo                  5552\n",
              "Riesling                     5189\n",
              "Rhône-style Red Blend        3972\n",
              "Pinot Gris                   3961\n",
              "Name: variety, dtype: int64"
            ]
          },
          "metadata": {
            "tags": []
          },
          "execution_count": 0
        }
      ]
    },
    {
      "cell_type": "code",
      "metadata": {
        "id": "un4hKJc6SI8a",
        "outputId": "7c7f9c3e-c687-46df-e6e5-38375b12c289",
        "colab": {
          "background_save": true,
          "base_uri": "https://localhost:8080/"
        }
      },
      "source": [
        "print('before sentence oversampling, highest class ratio was {}'.format(\\\n",
        "                                        top_varieties_count.iloc[0] / top_varieties_count.iloc[top]))"
      ],
      "execution_count": null,
      "outputs": [
        {
          "output_type": "stream",
          "text": [
            "before sentence oversampling, highest class ratio was 9.507163323782235\n"
          ],
          "name": "stdout"
        }
      ]
    },
    {
      "cell_type": "code",
      "metadata": {
        "id": "0XyGLghsSI8n",
        "outputId": "b65a5636-1f8f-4f4c-8818-c241abef3dcf",
        "colab": {
          "background_save": true,
          "base_uri": "https://localhost:8080/",
          "height": 396
        }
      },
      "source": [
        "fig = plt.figure(figsize=(18, 4))\n",
        "plt.bar(top_varieties_count[:top].index, top_varieties_count[:top].values)\n",
        "plt.xticks(rotation=90)\n",
        "plt.xlabel('variety')\n",
        "plt.ylabel('count')\n",
        "plt.title('Counts of varieties before sentence oversampling')\n",
        "plt.show()"
      ],
      "execution_count": null,
      "outputs": [
        {
          "output_type": "display_data",
          "data": {
            "image/png": "[encoded data removed]",
            "text/plain": [
              "<Figure size 1296x288 with 1 Axes>"
            ]
          },
          "metadata": {
            "tags": []
          }
        }
      ]
    },
    {
      "cell_type": "code",
      "metadata": {
        "id": "YupXB_WYSI81",
        "outputId": "da57776f-23de-4c91-d9a8-42cd020516dc",
        "colab": {
          "background_save": true,
          "base_uri": "https://localhost:8080/"
        }
      },
      "source": [
        "print('after sentence oversampling, highest class ratio is {}'.format(\\\n",
        "                                                    balanced_variety.iloc[0] / balanced_variety.iloc[-1]))"
      ],
      "execution_count": null,
      "outputs": [
        {
          "output_type": "stream",
          "text": [
            "after sentence oversampling, highest class ratio is 3.3506690229739964\n"
          ],
          "name": "stdout"
        }
      ]
    },
    {
      "cell_type": "code",
      "metadata": {
        "id": "0MWOU827SI8_",
        "outputId": "560a889a-44cc-4016-911e-534f444b42a3",
        "colab": {
          "background_save": true,
          "base_uri": "https://localhost:8080/",
          "height": 396
        }
      },
      "source": [
        "fig = plt.figure(figsize=(18, 4))\n",
        "plt.bar(balanced_variety.index, balanced_variety.values)\n",
        "plt.xticks(rotation=90)\n",
        "plt.xlabel('variety')\n",
        "plt.ylabel('count')\n",
        "plt.title('Counts of varieties after sentence oversampling')\n",
        "plt.show()"
      ],
      "execution_count": null,
      "outputs": [
        {
          "output_type": "display_data",
          "data": {
            "image/png": "[encoded data removed]",
            "text/plain": [
              "<Figure size 1296x288 with 1 Axes>"
            ]
          },
          "metadata": {
            "tags": []
          }
        }
      ]
    },
    {
      "cell_type": "markdown",
      "metadata": {
        "id": "CifYDSi3SI9N"
      },
      "source": [
        "## Let's find if any variety is unique to a particular country"
      ]
    },
    {
      "cell_type": "code",
      "metadata": {
        "id": "alNptUVgSI9O",
        "colab": {
          "background_save": true
        }
      },
      "source": [
        "by_variety = top_df.groupby('variety') # groupby variety"
      ],
      "execution_count": null,
      "outputs": []
    },
    {
      "cell_type": "code",
      "metadata": {
        "id": "PNL0a1HBSI9Z",
        "colab": {
          "background_save": true
        }
      },
      "source": [
        "by_variety_dict = {variety: df for variety, df in by_variety} # make a dict of the groups"
      ],
      "execution_count": null,
      "outputs": []
    },
    {
      "cell_type": "code",
      "metadata": {
        "id": "s9YKGQTDSI9m",
        "outputId": "9803febd-d615-4683-c898-a924e823f109",
        "colab": {
          "background_save": true,
          "base_uri": "https://localhost:8080/"
        }
      },
      "source": [
        "print(list(by_variety_dict.keys())) # prints the varieties"
      ],
      "execution_count": null,
      "outputs": [
        {
          "output_type": "stream",
          "text": [
            "['Bordeaux-style Red Blend', 'Cabernet Sauvignon', 'Chardonnay', 'Malbec', 'Merlot', 'Nebbiolo', 'Pinot Gris', 'Pinot Noir', 'Portuguese Red', 'Red Blend', 'Rhône-style Red Blend', 'Riesling', 'Rosé', 'Sangiovese', 'Sauvignon Blanc', 'Sparkling Blend', 'Syrah', 'Tempranillo', 'White Blend', 'Zinfandel']\n"
          ],
          "name": "stdout"
        }
      ]
    },
    {
      "cell_type": "code",
      "metadata": {
        "id": "Og_RugksSI90",
        "colab": {
          "background_save": true
        }
      },
      "source": [
        "def unique_variety_to_country(dict_):\n",
        "    res = []\n",
        "    for variety in dict_:\n",
        "        if dict_[variety]['country'].value_counts().shape[0] == 1:\n",
        "            res.append(variety)\n",
        "    return res"
      ],
      "execution_count": null,
      "outputs": []
    },
    {
      "cell_type": "code",
      "metadata": {
        "id": "CWqtNV7ASI-A",
        "outputId": "6fe52e1c-209d-45c1-9449-ac96b90a10d5",
        "colab": {
          "background_save": true,
          "base_uri": "https://localhost:8080/"
        }
      },
      "source": [
        "res = unique_variety_to_country(by_variety_dict)\n",
        "res"
      ],
      "execution_count": null,
      "outputs": [
        {
          "output_type": "execute_result",
          "data": {
            "text/plain": [
              "['Portuguese Red']"
            ]
          },
          "metadata": {
            "tags": []
          },
          "execution_count": 0
        }
      ]
    },
    {
      "cell_type": "markdown",
      "metadata": {
        "id": "uk2-GFaNSI-N"
      },
      "source": [
        "### We see that 'Portuguese Red' is a variety that is unique to a particular country. Let's check out the country."
      ]
    },
    {
      "cell_type": "code",
      "metadata": {
        "id": "D-E4fGX2SI-O",
        "outputId": "2385ccbc-b8ea-4735-a600-1e3c2fcbc047",
        "colab": {
          "background_save": true,
          "base_uri": "https://localhost:8080/",
          "height": 407
        }
      },
      "source": [
        "by_variety_dict[res[0]].head(3)"
      ],
      "execution_count": null,
      "outputs": [
        {
          "output_type": "execute_result",
          "data": {
            "text/html": [
              "<div>\n",
              "<style scoped>\n",
              "    .dataframe tbody tr th:only-of-type {\n",
              "        vertical-align: middle;\n",
              "    }\n",
              "\n",
              "    .dataframe tbody tr th {\n",
              "        vertical-align: top;\n",
              "    }\n",
              "\n",
              "    .dataframe thead th {\n",
              "        text-align: right;\n",
              "    }\n",
              "</style>\n",
              "<table border=\"1\" class=\"dataframe\">\n",
              "  <thead>\n",
              "    <tr style=\"text-align: right;\">\n",
              "      <th></th>\n",
              "      <th>country</th>\n",
              "      <th>description</th>\n",
              "      <th>designation</th>\n",
              "      <th>points</th>\n",
              "      <th>price</th>\n",
              "      <th>province</th>\n",
              "      <th>region_1</th>\n",
              "      <th>region_2</th>\n",
              "      <th>taster_name</th>\n",
              "      <th>taster_twitter_handle</th>\n",
              "      <th>title</th>\n",
              "      <th>variety</th>\n",
              "      <th>winery</th>\n",
              "      <th>not_vintage</th>\n",
              "      <th>vintage</th>\n",
              "    </tr>\n",
              "  </thead>\n",
              "  <tbody>\n",
              "    <tr>\n",
              "      <th>1</th>\n",
              "      <td>Portugal</td>\n",
              "      <td>This is ripe and fruity, a wine that is smooth...</td>\n",
              "      <td>Avidagos</td>\n",
              "      <td>87</td>\n",
              "      <td>15.0</td>\n",
              "      <td>Douro</td>\n",
              "      <td>NaN</td>\n",
              "      <td>NaN</td>\n",
              "      <td>Roger Voss</td>\n",
              "      <td>@vossroger</td>\n",
              "      <td>Quinta dos Avidagos 2011 Avidagos Red (Douro)</td>\n",
              "      <td>Portuguese Red</td>\n",
              "      <td>Quinta dos Avidagos</td>\n",
              "      <td>Portugal Avidagos Douro Quinta dos Avidagos</td>\n",
              "      <td>2011.0</td>\n",
              "    </tr>\n",
              "    <tr>\n",
              "      <th>128</th>\n",
              "      <td>Portugal</td>\n",
              "      <td>From an estate in the south of the Alentejo, t...</td>\n",
              "      <td>Grande Reserva Tinto</td>\n",
              "      <td>91</td>\n",
              "      <td>26.0</td>\n",
              "      <td>Alentejano</td>\n",
              "      <td>NaN</td>\n",
              "      <td>NaN</td>\n",
              "      <td>Roger Voss</td>\n",
              "      <td>@vossroger</td>\n",
              "      <td>Casa Santa Vitória 2013 Grande Reserva Tinto R...</td>\n",
              "      <td>Portuguese Red</td>\n",
              "      <td>Casa Santa Vitória</td>\n",
              "      <td>Portugal Grande Reserva Tinto Alentejano Casa ...</td>\n",
              "      <td>2013.0</td>\n",
              "    </tr>\n",
              "    <tr>\n",
              "      <th>169</th>\n",
              "      <td>Portugal</td>\n",
              "      <td>A year in wood and 30 months in bottle before ...</td>\n",
              "      <td>Montes Claros Garrafeira</td>\n",
              "      <td>90</td>\n",
              "      <td>28.0</td>\n",
              "      <td>Alentejo</td>\n",
              "      <td>NaN</td>\n",
              "      <td>NaN</td>\n",
              "      <td>Roger Voss</td>\n",
              "      <td>@vossroger</td>\n",
              "      <td>Adega Cooperativa de Borba 2012 Montes Claros ...</td>\n",
              "      <td>Portuguese Red</td>\n",
              "      <td>Adega Cooperativa de Borba</td>\n",
              "      <td>Portugal Montes Claros Garrafeira Alentejo Ade...</td>\n",
              "      <td>2012.0</td>\n",
              "    </tr>\n",
              "  </tbody>\n",
              "</table>\n",
              "</div>"
            ],
            "text/plain": [
              "      country  ... vintage\n",
              "1    Portugal  ...  2011.0\n",
              "128  Portugal  ...  2013.0\n",
              "169  Portugal  ...  2012.0\n",
              "\n",
              "[3 rows x 15 columns]"
            ]
          },
          "metadata": {
            "tags": []
          },
          "execution_count": 0
        }
      ]
    },
    {
      "cell_type": "markdown",
      "metadata": {
        "id": "upAK7Qq6SI-Z"
      },
      "source": [
        "*****And of course, Portugal is the country*****"
      ]
    },
    {
      "cell_type": "markdown",
      "metadata": {
        "id": "98o3OsyqSI-b"
      },
      "source": [
        "# 2.0 Data Modelling"
      ]
    },
    {
      "cell_type": "code",
      "metadata": {
        "id": "vutoLS_RSI-e",
        "colab": {
          "background_save": true
        }
      },
      "source": [
        "# importing useful libraries\n",
        "import spacy\n",
        "import gc\n",
        "from imblearn.over_sampling import SMOTE\n",
        "from imblearn.pipeline import Pipeline\n",
        "from sklearn.svm import SVC\n",
        "from sklearn.preprocessing import LabelEncoder\n",
        "from sklearn.model_selection import RepeatedStratifiedKFold, cross_val_score\n",
        "from gensim.models import Word2Vec # importing Word2Vec"
      ],
      "execution_count": null,
      "outputs": []
    },
    {
      "cell_type": "markdown",
      "metadata": {
        "id": "tpVXVci0SI-q"
      },
      "source": [
        "### Let's check for Nan values"
      ]
    },
    {
      "cell_type": "code",
      "metadata": {
        "id": "SB-FPsq8SI-s",
        "outputId": "dc886d41-e15a-46c0-eac4-fa5ce2d49ec4",
        "colab": {
          "background_save": true,
          "base_uri": "https://localhost:8080/",
          "height": 520
        }
      },
      "source": [
        "nan_df = top_df.isnull().sum().to_frame()\n",
        "nan_df.rename(columns={0: 'n_Nan'}, inplace=True)\n",
        "nan_df['%missing'] = 100*nan_df['n_Nan'] / top_df.shape[0]\n",
        "nan_df"
      ],
      "execution_count": null,
      "outputs": [
        {
          "output_type": "execute_result",
          "data": {
            "text/html": [
              "<div>\n",
              "<style scoped>\n",
              "    .dataframe tbody tr th:only-of-type {\n",
              "        vertical-align: middle;\n",
              "    }\n",
              "\n",
              "    .dataframe tbody tr th {\n",
              "        vertical-align: top;\n",
              "    }\n",
              "\n",
              "    .dataframe thead th {\n",
              "        text-align: right;\n",
              "    }\n",
              "</style>\n",
              "<table border=\"1\" class=\"dataframe\">\n",
              "  <thead>\n",
              "    <tr style=\"text-align: right;\">\n",
              "      <th></th>\n",
              "      <th>n_Nan</th>\n",
              "      <th>%missing</th>\n",
              "    </tr>\n",
              "  </thead>\n",
              "  <tbody>\n",
              "    <tr>\n",
              "      <th>country</th>\n",
              "      <td>37</td>\n",
              "      <td>0.039398</td>\n",
              "    </tr>\n",
              "    <tr>\n",
              "      <th>description</th>\n",
              "      <td>0</td>\n",
              "      <td>0.000000</td>\n",
              "    </tr>\n",
              "    <tr>\n",
              "      <th>designation</th>\n",
              "      <td>26985</td>\n",
              "      <td>28.733735</td>\n",
              "    </tr>\n",
              "    <tr>\n",
              "      <th>points</th>\n",
              "      <td>0</td>\n",
              "      <td>0.000000</td>\n",
              "    </tr>\n",
              "    <tr>\n",
              "      <th>price</th>\n",
              "      <td>5691</td>\n",
              "      <td>6.059799</td>\n",
              "    </tr>\n",
              "    <tr>\n",
              "      <th>province</th>\n",
              "      <td>37</td>\n",
              "      <td>0.039398</td>\n",
              "    </tr>\n",
              "    <tr>\n",
              "      <th>region_1</th>\n",
              "      <td>13466</td>\n",
              "      <td>14.338650</td>\n",
              "    </tr>\n",
              "    <tr>\n",
              "      <th>region_2</th>\n",
              "      <td>50804</td>\n",
              "      <td>54.096301</td>\n",
              "    </tr>\n",
              "    <tr>\n",
              "      <th>taster_name</th>\n",
              "      <td>18863</td>\n",
              "      <td>20.085397</td>\n",
              "    </tr>\n",
              "    <tr>\n",
              "      <th>taster_twitter_handle</th>\n",
              "      <td>22626</td>\n",
              "      <td>24.092255</td>\n",
              "    </tr>\n",
              "    <tr>\n",
              "      <th>title</th>\n",
              "      <td>0</td>\n",
              "      <td>0.000000</td>\n",
              "    </tr>\n",
              "    <tr>\n",
              "      <th>variety</th>\n",
              "      <td>0</td>\n",
              "      <td>0.000000</td>\n",
              "    </tr>\n",
              "    <tr>\n",
              "      <th>winery</th>\n",
              "      <td>0</td>\n",
              "      <td>0.000000</td>\n",
              "    </tr>\n",
              "    <tr>\n",
              "      <th>not_vintage</th>\n",
              "      <td>0</td>\n",
              "      <td>0.000000</td>\n",
              "    </tr>\n",
              "    <tr>\n",
              "      <th>vintage</th>\n",
              "      <td>2202</td>\n",
              "      <td>2.344698</td>\n",
              "    </tr>\n",
              "  </tbody>\n",
              "</table>\n",
              "</div>"
            ],
            "text/plain": [
              "                       n_Nan   %missing\n",
              "country                   37   0.039398\n",
              "description                0   0.000000\n",
              "designation            26985  28.733735\n",
              "points                     0   0.000000\n",
              "price                   5691   6.059799\n",
              "province                  37   0.039398\n",
              "region_1               13466  14.338650\n",
              "region_2               50804  54.096301\n",
              "taster_name            18863  20.085397\n",
              "taster_twitter_handle  22626  24.092255\n",
              "title                      0   0.000000\n",
              "variety                    0   0.000000\n",
              "winery                     0   0.000000\n",
              "not_vintage                0   0.000000\n",
              "vintage                 2202   2.344698"
            ]
          },
          "metadata": {
            "tags": []
          },
          "execution_count": 0
        }
      ]
    },
    {
      "cell_type": "code",
      "metadata": {
        "id": "Wr648Zd6SI-3",
        "colab": {
          "background_save": true
        }
      },
      "source": [
        "# creating a spacy pipeline and disabling tagger, parser and ner to speed up tokenizer\n",
        "nlp = spacy.load('en', disable=['tagger', 'parser', 'ner'])"
      ],
      "execution_count": null,
      "outputs": []
    },
    {
      "cell_type": "markdown",
      "metadata": {
        "id": "_uU8jeokSI_B"
      },
      "source": [
        "### We will be evaluating six preprocessing approaches (methods) to choose the best one.\n",
        "\n",
        "1. sentence oversampling without including 'not_vintage'\n",
        "2. no oversampling without including 'not_vintage'\n",
        "3. SMOTE oversampling without including 'not_vintage'\n",
        "4. sentence oversampling including 'not_vintage'\n",
        "5. no oversampling including 'not_vintage'\n",
        "6. SMOTE oversampling without including 'not_vintage'"
      ]
    },
    {
      "cell_type": "markdown",
      "metadata": {
        "id": "DEgu--M8SI_C"
      },
      "source": [
        "- Remeber, ````not_vintage```` is the combination of non-numeric categorical features of ````country, province, region1, region2, winery, and designation````"
      ]
    },
    {
      "cell_type": "code",
      "metadata": {
        "id": "NSpT2c_cSI_E",
        "colab": {
          "background_save": true
        }
      },
      "source": [
        "# getting corpus of sentence oversampling\n",
        "sent_oversample_corpus = [doc for doc in balanced_df['description']]\n",
        "sent_oversample_le = LabelEncoder() # initializes a LabelEncoder object\n",
        "# encodes the labels\n",
        "sent_oversample_labels = sent_oversample_le.fit_transform([label for label in balanced_df['variety']])\n",
        "\n",
        "# getting corpus of no oversampling\n",
        "no_oversample_corpus = [doc for doc in top_df['description']]\n",
        "no_oversample_le = LabelEncoder() # initializes a LabelEncoder object\n",
        "# encodes the labels\n",
        "no_oversample_label = no_oversample_le.fit_transform([label for label in top_df['variety']])"
      ],
      "execution_count": null,
      "outputs": []
    },
    {
      "cell_type": "markdown",
      "metadata": {
        "id": "Xky74djHSI_M"
      },
      "source": [
        "### Let's have a view of ````sent_oversample_corpus```` and ````no_oversample_corpus````"
      ]
    },
    {
      "cell_type": "code",
      "metadata": {
        "id": "iCwQz3SASI_Q",
        "outputId": "9fbadf69-5080-40fe-b994-7b66d33d6506",
        "colab": {
          "background_save": true,
          "base_uri": "https://localhost:8080/"
        }
      },
      "source": [
        "sent_oversample_corpus[-3:]"
      ],
      "execution_count": null,
      "outputs": [
        {
          "output_type": "execute_result",
          "data": {
            "text/plain": [
              "['It also has weight and a solid, powerful core of spice and baked apple flavors.',\n",
              " 'With its structure still developing, the wine needs to age.',\n",
              " 'Drink from 2015.']"
            ]
          },
          "metadata": {
            "tags": []
          },
          "execution_count": 0
        }
      ]
    },
    {
      "cell_type": "code",
      "metadata": {
        "id": "YF0Sw4Z2SI_b",
        "outputId": "a5e4a9d3-8f2b-4514-b930-1067dcf888fd",
        "colab": {
          "background_save": true,
          "base_uri": "https://localhost:8080/"
        }
      },
      "source": [
        "no_oversample_corpus[-3:]"
      ],
      "execution_count": null,
      "outputs": [
        {
          "output_type": "execute_result",
          "data": {
            "text/plain": [
              "[\"Notes of honeysuckle and cantaloupe sweeten this deliciously feather-light spätlese. It's intensely juicy, quenching the palate with streams of tart tangerine and grapefruit acidity, yet wraps up with a kiss of honey and peach.\",\n",
              " 'Citation is given as much as a decade of bottle age prior to release, which means it is pre-cellared and drinking at its peak. Baked cherry, cocoa and coconut flavors combine gracefully, with soft, secondary fruit compote highlights.',\n",
              " 'A dry style of Pinot Gris, this is crisp with some acidity. It also has weight and a solid, powerful core of spice and baked apple flavors. With its structure still developing, the wine needs to age. Drink from 2015.']"
            ]
          },
          "metadata": {
            "tags": []
          },
          "execution_count": 0
        }
      ]
    },
    {
      "cell_type": "code",
      "metadata": {
        "id": "gaNt9omHSI_m",
        "colab": {
          "background_save": true
        }
      },
      "source": [
        "# creating a dictionary to decode the encoded labels (we could also use the inverse_transform method of the \n",
        "# LabelEncoder object)\n",
        "sent_oversample_map = {v: k for k, v in enumerate(sent_oversample_le.classes_)}\n",
        "no_oversample_map = {v: k for k, v in enumerate(no_oversample_le.classes_)}"
      ],
      "execution_count": null,
      "outputs": []
    },
    {
      "cell_type": "code",
      "metadata": {
        "id": "d4Q4f9AoSI_s",
        "outputId": "25a1b7d9-2224-4e5f-859f-a26bc16f6992",
        "colab": {
          "background_save": true,
          "base_uri": "https://localhost:8080/"
        }
      },
      "source": [
        "stop_words = spacy.lang.en.STOP_WORDS # getting spacy's stop-words\n",
        "print(\"is 'become' in stop_words? \", \"become\" in stop_words)\n",
        "print(\"is 'became' in stop_words? \", \"became\" in stop_words)"
      ],
      "execution_count": null,
      "outputs": [
        {
          "output_type": "stream",
          "text": [
            "is 'become' in stop_words?  True\n",
            "is 'became' in stop_words?  True\n"
          ],
          "name": "stdout"
        }
      ]
    },
    {
      "cell_type": "markdown",
      "metadata": {
        "id": "TTVksyz_SI_-"
      },
      "source": [
        "### from the above, if we are lemmatizing our corpus (which we would do), we need to lemmatize the stop-words also. First let's see a sample of how our tokenizer would clean up a messy document. We want to remove digits, alpha-numeric, special characters, and punctuations. We also want to lemmatize words and use a common case. We will choose to work with lower case so words like 'Please' and 'please' wouldn't be counted as seperate words."
      ]
    },
    {
      "cell_type": "code",
      "metadata": {
        "id": "o-MQ1ZgcSJAI",
        "outputId": "cf23eb49-ec15-423b-bd1a-fb41343d155d",
        "colab": {
          "background_save": true,
          "base_uri": "https://localhost:8080/"
        }
      },
      "source": [
        "sample_text = \"Please! é don't Do isn't? runs honey-well ran: lo50 it did, 0.5 doiNg he 100 #fr @h... +234 me3.\"\n",
        "lst = []\n",
        "for p in nlp(sample_text):\n",
        "    if p.is_alpha:\n",
        "        lst.append(p.lemma_.lower())\n",
        "print(lst)"
      ],
      "execution_count": null,
      "outputs": [
        {
          "output_type": "stream",
          "text": [
            "['please', 'é', 'do', 'do', 'be', 'run', 'honey', 'good', 'run', 'it', 'do', 'doing', 'he', 'fr']\n"
          ],
          "name": "stdout"
        }
      ]
    },
    {
      "cell_type": "markdown",
      "metadata": {
        "id": "Mv6BfwZASJAR"
      },
      "source": [
        "### we will encapsulate the above code in a list comprehension, and that will be our tokenizer function."
      ]
    },
    {
      "cell_type": "code",
      "metadata": {
        "id": "7l1hBdu-SJAV",
        "colab": {
          "background_save": true
        }
      },
      "source": [
        "def tokenizer(text):\n",
        "    return [word.lemma_.lower() for word in nlp(text) if word.is_alpha]"
      ],
      "execution_count": null,
      "outputs": []
    },
    {
      "cell_type": "markdown",
      "metadata": {
        "id": "c-K4hICnSJAe"
      },
      "source": [
        "### After tokenizer, there is a weird word '-pron-' that appears probably because spacy lemmatizes some pronouns as '-pron-'. Some numbers strangely still appeared after tokenizing (and double tokenizing)...it may be due to a bug in spacy. We wil include these to our stop-words. We will also lemmatize our stop words since we are lemmatizing our tokens. The word 'wine' as expected have a high count in our data, so we will include it to stop words too."
      ]
    },
    {
      "cell_type": "code",
      "metadata": {
        "id": "0cCB9E8_SJAg",
        "outputId": "421552a5-5eb5-4f77-e572-b9d20e8fc599",
        "colab": {
          "background_save": true,
          "base_uri": "https://localhost:8080/"
        }
      },
      "source": [
        "stop_words_lemma = {word.lemma_.lower() for word in nlp(' '.join(stop_words))} | {'-pron-', 'wine', '10', '12', \\\n",
        "                        'aah', 'aa', 'ab', 'aaa', 'aand', '16', '2', '20', '30', '4', '40', '5', '6', '7', '8', '9'}\n",
        "\n",
        "print(\"is 'become' in stop_words after lemmatizing stop words? \", \"become\" in stop_words_lemma)\n",
        "print(\"is 'became' in stop_words after lemmatizing stop words? \", \"became\" in stop_words_lemma) \n",
        "print(\"is '-pron-' in stop_words? \", \"-pron-\" in stop_words_lemma)\n",
        "print(\"is 'wine' in stop_words? \", \"wine\" in stop_words_lemma)"
      ],
      "execution_count": null,
      "outputs": [
        {
          "output_type": "stream",
          "text": [
            "is 'become' in stop_words after lemmatizing stop words?  True\n",
            "is 'became' in stop_words after lemmatizing stop words?  False\n",
            "is '-pron-' in stop_words?  True\n",
            "is 'wine' in stop_words?  True\n"
          ],
          "name": "stdout"
        }
      ]
    },
    {
      "cell_type": "code",
      "metadata": {
        "id": "PHFTqaQySJAo",
        "colab": {
          "background_save": true
        }
      },
      "source": [
        "# creating a RepeatedStratifiedKFold object. Since we plan using 25% as our test-size, we will use 4 fold cv.\n",
        "# to have a level plain ground for comparing different models, we will be using random state of 1 through out.\n",
        "cv = RepeatedStratifiedKFold(n_splits=4, n_repeats=3, random_state=1)"
      ],
      "execution_count": null,
      "outputs": []
    },
    {
      "cell_type": "markdown",
      "metadata": {
        "id": "8UCegDTQSJAv"
      },
      "source": [
        "## Word2vec"
      ]
    },
    {
      "cell_type": "markdown",
      "metadata": {
        "id": "2oM7baetSJAy"
      },
      "source": [
        "### Word2vec converts each word to an n-dimensional vector by using neural network to encode the context usage of words in a sentence. It is advantageous than Tfidf because it takes context into consideration. For this notebook, we will encoding into a 300 dimensional vector with the continuous bag of words (CBOW) strategy (default) on a window size of 5 (default) which seems to be the best for our data."
      ]
    },
    {
      "cell_type": "code",
      "metadata": {
        "id": "wSAfSB8KSJA0",
        "colab": {
          "background_save": true
        }
      },
      "source": [
        "# defining a function to return the mean word2vec vectors of words in a review (document) as the document vector \n",
        "def get_doc_vector(model, doc):\n",
        "    return np.mean([model[word] for word in doc if word in model.wv.vocab], axis=0)"
      ],
      "execution_count": null,
      "outputs": []
    },
    {
      "cell_type": "markdown",
      "metadata": {
        "id": "QncyCWeESJA6"
      },
      "source": [
        "## Method Using (````description```` plus ````not_vintage````)\n",
        "#### With Oversampling"
      ]
    },
    {
      "cell_type": "markdown",
      "metadata": {
        "id": "gzA10GJkSJA7"
      },
      "source": [
        "### First, let's make a corpus where each document is ````description```` plus ````not_vintage````"
      ]
    },
    {
      "cell_type": "code",
      "metadata": {
        "id": "9wyq44ZlSJA8",
        "colab": {
          "background_save": true
        }
      },
      "source": [
        "# for sentence oversampling\n",
        "sent_oversample_corpus2 = [doc1 + ' ' + doc2 for doc1, doc2 in zip(\\\n",
        "                                                        balanced_df['description'], balanced_df['not_vintage'])]\n",
        "\n",
        "# for no oversampling\n",
        "no_oversample_corpus2 = [doc1 + ' ' + doc2 for doc1, doc2 in zip(\\\n",
        "                                                        top_df['description'], top_df['not_vintage'])]"
      ],
      "execution_count": null,
      "outputs": []
    },
    {
      "cell_type": "markdown",
      "metadata": {
        "id": "xdyBdFh4SJBE"
      },
      "source": [
        "### let's see how the combination of ````description```` and ````not_vintage```` is like"
      ]
    },
    {
      "cell_type": "code",
      "metadata": {
        "id": "AN-QsgoPSJBG",
        "outputId": "998a8450-e583-4e2b-8a5b-02fcda686e2a",
        "colab": {
          "background_save": true,
          "base_uri": "https://localhost:8080/"
        }
      },
      "source": [
        "sent_oversample_corpus2[-3:]"
      ],
      "execution_count": null,
      "outputs": [
        {
          "output_type": "execute_result",
          "data": {
            "text/plain": [
              "['It also has weight and a solid, powerful core of spice and baked apple flavors. France Alsace Alsace Domaine Marcel Deiss',\n",
              " 'With its structure still developing, the wine needs to age. France Alsace Alsace Domaine Marcel Deiss',\n",
              " 'Drink from 2015. France Alsace Alsace Domaine Marcel Deiss']"
            ]
          },
          "metadata": {
            "tags": []
          },
          "execution_count": 0
        }
      ]
    },
    {
      "cell_type": "code",
      "metadata": {
        "id": "Qu8Tv5SgSJBO",
        "outputId": "8a30d49b-f891-408d-c242-9afdd036dd70",
        "colab": {
          "background_save": true,
          "base_uri": "https://localhost:8080/"
        }
      },
      "source": [
        "no_oversample_corpus2[:3] "
      ],
      "execution_count": null,
      "outputs": [
        {
          "output_type": "execute_result",
          "data": {
            "text/plain": [
              "[\"Aromas include tropical fruit, broom, brimstone and dried herb. The palate isn't overly expressive, offering unripened apple, citrus and dried sage alongside brisk acidity. Italy Vulkà Bianco Sicily & Sardinia Etna Nicosia\",\n",
              " \"This is ripe and fruity, a wine that is smooth while still structured. Firm tannins are filled out with juicy red berry fruits and freshened with acidity. It's  already drinkable, although it will certainly be better from 2016. Portugal Avidagos Douro Quinta dos Avidagos\",\n",
              " 'Tart and snappy, the flavors of lime flesh and rind dominate. Some green pineapple pokes through, with crisp acidity underscoring the flavors. The wine was all stainless-steel fermented. US Oregon Willamette Valley Willamette Valley Rainstorm']"
            ]
          },
          "metadata": {
            "tags": []
          },
          "execution_count": 0
        }
      ]
    },
    {
      "cell_type": "code",
      "metadata": {
        "id": "EfezPWm6SJBa",
        "outputId": "6a2058bd-baf2-4876-8244-196df334c23e",
        "colab": {
          "background_save": true,
          "base_uri": "https://localhost:8080/"
        }
      },
      "source": [
        "sent_oversample_corpus2 = [tokenizer(doc) for doc in sent_oversample_corpus2] # gets corpus as a list of lists\n",
        "print(sent_oversample_corpus2[:2])"
      ],
      "execution_count": null,
      "outputs": [
        {
          "output_type": "stream",
          "text": [
            "[['pineapple', 'rind', 'lemon', 'pith', 'and', 'orange', 'blossom', 'start', 'off', 'the', 'aroma', 'the', 'palate', 'be', 'a', 'bite', 'much', 'opulent', 'with', 'note', 'of', 'honey', 'drizzle', 'guava', 'and', 'mango', 'give', 'way', 'to', 'a', 'slightly', 'astringent', 'semidry', 'finish', 'us', 'reserve', 'late', 'harvest', 'michigan', 'lake', 'michigan', 'shore', 'julian'], ['much', 'like', 'the', 'regular', 'bottle', 'from', 'this', 'come', 'across', 'a', 'rather', 'rough', 'and', 'tannic', 'with', 'rustic', 'earthy', 'herbal', 'characteristic', 'nonetheless', 'if', 'you', 'think', 'of', 'it', 'a', 'a', 'pleasantly', 'unfussy', 'country', 'wine', '-pron-', 'a', 'good', 'companion', 'to', 'a', 'hearty', 'winter', 'stew', 'us', 'vintner', 'reserve', 'wild', 'child', 'block', 'oregon', 'willamette', 'valley', 'willamette', 'valley', 'sweet', 'cheeks']]\n"
          ],
          "name": "stdout"
        }
      ]
    },
    {
      "cell_type": "code",
      "metadata": {
        "id": "Wk1-pYtUSJBk",
        "outputId": "903f0370-e300-400c-be3f-4da5b42da550",
        "colab": {
          "base_uri": "https://localhost:8080/"
        }
      },
      "source": [
        "# trains sent_oversample_corpus2 on Word2Vec. For sent_oversample_corpus2, min_count of 5 and iter (epoch) of 10 \n",
        "# seems to be the best\n",
        "sent_w2v_model2 = Word2Vec(sent_oversample_corpus2, size=300, min_count=5, iter=10)\n",
        "\n",
        "print(sent_w2v_model2) # sumarizes the word2vec"
      ],
      "execution_count": null,
      "outputs": [
        {
          "output_type": "stream",
          "text": [
            "Word2Vec(vocab=20074, size=300, alpha=0.025)\n"
          ],
          "name": "stdout"
        }
      ]
    },
    {
      "cell_type": "code",
      "metadata": {
        "id": "yIzbmsV8SJBu"
      },
      "source": [
        "# getting the word2vec embeddings (vectors) of the corpus as input array\n",
        "sent_x2 = np.array([get_doc_vector(sent_w2v_model2, doc) for doc in sent_oversample_corpus2])"
      ],
      "execution_count": null,
      "outputs": []
    },
    {
      "cell_type": "code",
      "metadata": {
        "id": "lrrc5Z9NSJB2",
        "outputId": "10ce6dbf-6af3-4c17-80a0-ecadeacf491b",
        "colab": {
          "base_uri": "https://localhost:8080/"
        }
      },
      "source": [
        "gc.collect()"
      ],
      "execution_count": null,
      "outputs": [
        {
          "output_type": "execute_result",
          "data": {
            "text/plain": [
              "0"
            ]
          },
          "metadata": {
            "tags": []
          },
          "execution_count": 44
        }
      ]
    },
    {
      "cell_type": "code",
      "metadata": {
        "id": "fNaUbwoXSJB8",
        "outputId": "77c6621c-78e0-46f4-87a2-b4271c8ef760",
        "colab": {
          "background_save": true
        }
      },
      "source": [
        "# initializes a classifier object\n",
        "sent_oversample_SVM = SVC(random_state=1)\n",
        "\n",
        "# getting the cross validation scores\n",
        "sent_scores2 = cross_val_score(sent_oversample_SVM, sent_x2, sent_oversample_labels, \\\n",
        "                         scoring='f1_weighted', cv=cv, n_jobs=4, verbose=True)"
      ],
      "execution_count": null,
      "outputs": [
        {
          "output_type": "stream",
          "text": [
            "[Parallel(n_jobs=4)]: Using backend LokyBackend with 4 concurrent workers.\n"
          ],
          "name": "stderr"
        },
        {
          "output_type": "error",
          "ename": "KeyboardInterrupt",
          "evalue": "ignored",
          "traceback": [
            "\u001b[0;31m---------------------------------------------------------------------------\u001b[0m",
            "\u001b[0;31mKeyboardInterrupt\u001b[0m                         Traceback (most recent call last)",
            "\u001b[0;32m<ipython-input-46-7251d31780e4>\u001b[0m in \u001b[0;36m<module>\u001b[0;34m()\u001b[0m\n\u001b[1;32m      3\u001b[0m \u001b[0;34m\u001b[0m\u001b[0m\n\u001b[1;32m      4\u001b[0m \u001b[0;31m# getting the cross validation scores\u001b[0m\u001b[0;34m\u001b[0m\u001b[0;34m\u001b[0m\u001b[0;34m\u001b[0m\u001b[0m\n\u001b[0;32m----> 5\u001b[0;31m \u001b[0msent_scores2\u001b[0m \u001b[0;34m=\u001b[0m \u001b[0mcross_val_score\u001b[0m\u001b[0;34m(\u001b[0m\u001b[0msent_oversample_SVM\u001b[0m\u001b[0;34m,\u001b[0m \u001b[0msent_x2\u001b[0m\u001b[0;34m,\u001b[0m \u001b[0msent_oversample_labels\u001b[0m\u001b[0;34m,\u001b[0m                          \u001b[0mscoring\u001b[0m\u001b[0;34m=\u001b[0m\u001b[0;34m'f1_weighted'\u001b[0m\u001b[0;34m,\u001b[0m \u001b[0mcv\u001b[0m\u001b[0;34m=\u001b[0m\u001b[0mcv\u001b[0m\u001b[0;34m,\u001b[0m \u001b[0mn_jobs\u001b[0m\u001b[0;34m=\u001b[0m\u001b[0;36m4\u001b[0m\u001b[0;34m,\u001b[0m \u001b[0mverbose\u001b[0m\u001b[0;34m=\u001b[0m\u001b[0;32mTrue\u001b[0m\u001b[0;34m)\u001b[0m\u001b[0;34m\u001b[0m\u001b[0;34m\u001b[0m\u001b[0m\n\u001b[0m",
            "\u001b[0;32m/usr/local/lib/python3.6/dist-packages/sklearn/model_selection/_validation.py\u001b[0m in \u001b[0;36mcross_val_score\u001b[0;34m(estimator, X, y, groups, scoring, cv, n_jobs, verbose, fit_params, pre_dispatch, error_score)\u001b[0m\n\u001b[1;32m    388\u001b[0m                                 \u001b[0mfit_params\u001b[0m\u001b[0;34m=\u001b[0m\u001b[0mfit_params\u001b[0m\u001b[0;34m,\u001b[0m\u001b[0;34m\u001b[0m\u001b[0;34m\u001b[0m\u001b[0m\n\u001b[1;32m    389\u001b[0m                                 \u001b[0mpre_dispatch\u001b[0m\u001b[0;34m=\u001b[0m\u001b[0mpre_dispatch\u001b[0m\u001b[0;34m,\u001b[0m\u001b[0;34m\u001b[0m\u001b[0;34m\u001b[0m\u001b[0m\n\u001b[0;32m--> 390\u001b[0;31m                                 error_score=error_score)\n\u001b[0m\u001b[1;32m    391\u001b[0m     \u001b[0;32mreturn\u001b[0m \u001b[0mcv_results\u001b[0m\u001b[0;34m[\u001b[0m\u001b[0;34m'test_score'\u001b[0m\u001b[0;34m]\u001b[0m\u001b[0;34m\u001b[0m\u001b[0;34m\u001b[0m\u001b[0m\n\u001b[1;32m    392\u001b[0m \u001b[0;34m\u001b[0m\u001b[0m\n",
            "\u001b[0;32m/usr/local/lib/python3.6/dist-packages/sklearn/model_selection/_validation.py\u001b[0m in \u001b[0;36mcross_validate\u001b[0;34m(estimator, X, y, groups, scoring, cv, n_jobs, verbose, fit_params, pre_dispatch, return_train_score, return_estimator, error_score)\u001b[0m\n\u001b[1;32m    234\u001b[0m             \u001b[0mreturn_times\u001b[0m\u001b[0;34m=\u001b[0m\u001b[0;32mTrue\u001b[0m\u001b[0;34m,\u001b[0m \u001b[0mreturn_estimator\u001b[0m\u001b[0;34m=\u001b[0m\u001b[0mreturn_estimator\u001b[0m\u001b[0;34m,\u001b[0m\u001b[0;34m\u001b[0m\u001b[0;34m\u001b[0m\u001b[0m\n\u001b[1;32m    235\u001b[0m             error_score=error_score)\n\u001b[0;32m--> 236\u001b[0;31m         for train, test in cv.split(X, y, groups))\n\u001b[0m\u001b[1;32m    237\u001b[0m \u001b[0;34m\u001b[0m\u001b[0m\n\u001b[1;32m    238\u001b[0m     \u001b[0mzipped_scores\u001b[0m \u001b[0;34m=\u001b[0m \u001b[0mlist\u001b[0m\u001b[0;34m(\u001b[0m\u001b[0mzip\u001b[0m\u001b[0;34m(\u001b[0m\u001b[0;34m*\u001b[0m\u001b[0mscores\u001b[0m\u001b[0;34m)\u001b[0m\u001b[0;34m)\u001b[0m\u001b[0;34m\u001b[0m\u001b[0;34m\u001b[0m\u001b[0m\n",
            "\u001b[0;32m/usr/local/lib/python3.6/dist-packages/joblib/parallel.py\u001b[0m in \u001b[0;36m__call__\u001b[0;34m(self, iterable)\u001b[0m\n\u001b[1;32m   1059\u001b[0m \u001b[0;34m\u001b[0m\u001b[0m\n\u001b[1;32m   1060\u001b[0m             \u001b[0;32mwith\u001b[0m \u001b[0mself\u001b[0m\u001b[0;34m.\u001b[0m\u001b[0m_backend\u001b[0m\u001b[0;34m.\u001b[0m\u001b[0mretrieval_context\u001b[0m\u001b[0;34m(\u001b[0m\u001b[0;34m)\u001b[0m\u001b[0;34m:\u001b[0m\u001b[0;34m\u001b[0m\u001b[0;34m\u001b[0m\u001b[0m\n\u001b[0;32m-> 1061\u001b[0;31m                 \u001b[0mself\u001b[0m\u001b[0;34m.\u001b[0m\u001b[0mretrieve\u001b[0m\u001b[0;34m(\u001b[0m\u001b[0;34m)\u001b[0m\u001b[0;34m\u001b[0m\u001b[0;34m\u001b[0m\u001b[0m\n\u001b[0m\u001b[1;32m   1062\u001b[0m             \u001b[0;31m# Make sure that we get a last message telling us we are done\u001b[0m\u001b[0;34m\u001b[0m\u001b[0;34m\u001b[0m\u001b[0;34m\u001b[0m\u001b[0m\n\u001b[1;32m   1063\u001b[0m             \u001b[0melapsed_time\u001b[0m \u001b[0;34m=\u001b[0m \u001b[0mtime\u001b[0m\u001b[0;34m.\u001b[0m\u001b[0mtime\u001b[0m\u001b[0;34m(\u001b[0m\u001b[0;34m)\u001b[0m \u001b[0;34m-\u001b[0m \u001b[0mself\u001b[0m\u001b[0;34m.\u001b[0m\u001b[0m_start_time\u001b[0m\u001b[0;34m\u001b[0m\u001b[0;34m\u001b[0m\u001b[0m\n",
            "\u001b[0;32m/usr/local/lib/python3.6/dist-packages/joblib/parallel.py\u001b[0m in \u001b[0;36mretrieve\u001b[0;34m(self)\u001b[0m\n\u001b[1;32m    938\u001b[0m             \u001b[0;32mtry\u001b[0m\u001b[0;34m:\u001b[0m\u001b[0;34m\u001b[0m\u001b[0;34m\u001b[0m\u001b[0m\n\u001b[1;32m    939\u001b[0m                 \u001b[0;32mif\u001b[0m \u001b[0mgetattr\u001b[0m\u001b[0;34m(\u001b[0m\u001b[0mself\u001b[0m\u001b[0;34m.\u001b[0m\u001b[0m_backend\u001b[0m\u001b[0;34m,\u001b[0m \u001b[0;34m'supports_timeout'\u001b[0m\u001b[0;34m,\u001b[0m \u001b[0;32mFalse\u001b[0m\u001b[0;34m)\u001b[0m\u001b[0;34m:\u001b[0m\u001b[0;34m\u001b[0m\u001b[0;34m\u001b[0m\u001b[0m\n\u001b[0;32m--> 940\u001b[0;31m                     \u001b[0mself\u001b[0m\u001b[0;34m.\u001b[0m\u001b[0m_output\u001b[0m\u001b[0;34m.\u001b[0m\u001b[0mextend\u001b[0m\u001b[0;34m(\u001b[0m\u001b[0mjob\u001b[0m\u001b[0;34m.\u001b[0m\u001b[0mget\u001b[0m\u001b[0;34m(\u001b[0m\u001b[0mtimeout\u001b[0m\u001b[0;34m=\u001b[0m\u001b[0mself\u001b[0m\u001b[0;34m.\u001b[0m\u001b[0mtimeout\u001b[0m\u001b[0;34m)\u001b[0m\u001b[0;34m)\u001b[0m\u001b[0;34m\u001b[0m\u001b[0;34m\u001b[0m\u001b[0m\n\u001b[0m\u001b[1;32m    941\u001b[0m                 \u001b[0;32melse\u001b[0m\u001b[0;34m:\u001b[0m\u001b[0;34m\u001b[0m\u001b[0;34m\u001b[0m\u001b[0m\n\u001b[1;32m    942\u001b[0m                     \u001b[0mself\u001b[0m\u001b[0;34m.\u001b[0m\u001b[0m_output\u001b[0m\u001b[0;34m.\u001b[0m\u001b[0mextend\u001b[0m\u001b[0;34m(\u001b[0m\u001b[0mjob\u001b[0m\u001b[0;34m.\u001b[0m\u001b[0mget\u001b[0m\u001b[0;34m(\u001b[0m\u001b[0;34m)\u001b[0m\u001b[0;34m)\u001b[0m\u001b[0;34m\u001b[0m\u001b[0;34m\u001b[0m\u001b[0m\n",
            "\u001b[0;32m/usr/local/lib/python3.6/dist-packages/joblib/_parallel_backends.py\u001b[0m in \u001b[0;36mwrap_future_result\u001b[0;34m(future, timeout)\u001b[0m\n\u001b[1;32m    540\u001b[0m         AsyncResults.get from multiprocessing.\"\"\"\n\u001b[1;32m    541\u001b[0m         \u001b[0;32mtry\u001b[0m\u001b[0;34m:\u001b[0m\u001b[0;34m\u001b[0m\u001b[0;34m\u001b[0m\u001b[0m\n\u001b[0;32m--> 542\u001b[0;31m             \u001b[0;32mreturn\u001b[0m \u001b[0mfuture\u001b[0m\u001b[0;34m.\u001b[0m\u001b[0mresult\u001b[0m\u001b[0;34m(\u001b[0m\u001b[0mtimeout\u001b[0m\u001b[0;34m=\u001b[0m\u001b[0mtimeout\u001b[0m\u001b[0;34m)\u001b[0m\u001b[0;34m\u001b[0m\u001b[0;34m\u001b[0m\u001b[0m\n\u001b[0m\u001b[1;32m    543\u001b[0m         \u001b[0;32mexcept\u001b[0m \u001b[0mCfTimeoutError\u001b[0m \u001b[0;32mas\u001b[0m \u001b[0me\u001b[0m\u001b[0;34m:\u001b[0m\u001b[0;34m\u001b[0m\u001b[0;34m\u001b[0m\u001b[0m\n\u001b[1;32m    544\u001b[0m             \u001b[0;32mraise\u001b[0m \u001b[0mTimeoutError\u001b[0m \u001b[0;32mfrom\u001b[0m \u001b[0me\u001b[0m\u001b[0;34m\u001b[0m\u001b[0;34m\u001b[0m\u001b[0m\n",
            "\u001b[0;32m/usr/lib/python3.6/concurrent/futures/_base.py\u001b[0m in \u001b[0;36mresult\u001b[0;34m(self, timeout)\u001b[0m\n\u001b[1;32m    425\u001b[0m                 \u001b[0;32mreturn\u001b[0m \u001b[0mself\u001b[0m\u001b[0;34m.\u001b[0m\u001b[0m__get_result\u001b[0m\u001b[0;34m(\u001b[0m\u001b[0;34m)\u001b[0m\u001b[0;34m\u001b[0m\u001b[0;34m\u001b[0m\u001b[0m\n\u001b[1;32m    426\u001b[0m \u001b[0;34m\u001b[0m\u001b[0m\n\u001b[0;32m--> 427\u001b[0;31m             \u001b[0mself\u001b[0m\u001b[0;34m.\u001b[0m\u001b[0m_condition\u001b[0m\u001b[0;34m.\u001b[0m\u001b[0mwait\u001b[0m\u001b[0;34m(\u001b[0m\u001b[0mtimeout\u001b[0m\u001b[0;34m)\u001b[0m\u001b[0;34m\u001b[0m\u001b[0;34m\u001b[0m\u001b[0m\n\u001b[0m\u001b[1;32m    428\u001b[0m \u001b[0;34m\u001b[0m\u001b[0m\n\u001b[1;32m    429\u001b[0m             \u001b[0;32mif\u001b[0m \u001b[0mself\u001b[0m\u001b[0;34m.\u001b[0m\u001b[0m_state\u001b[0m \u001b[0;32min\u001b[0m \u001b[0;34m[\u001b[0m\u001b[0mCANCELLED\u001b[0m\u001b[0;34m,\u001b[0m \u001b[0mCANCELLED_AND_NOTIFIED\u001b[0m\u001b[0;34m]\u001b[0m\u001b[0;34m:\u001b[0m\u001b[0;34m\u001b[0m\u001b[0;34m\u001b[0m\u001b[0m\n",
            "\u001b[0;32m/usr/lib/python3.6/threading.py\u001b[0m in \u001b[0;36mwait\u001b[0;34m(self, timeout)\u001b[0m\n\u001b[1;32m    293\u001b[0m         \u001b[0;32mtry\u001b[0m\u001b[0;34m:\u001b[0m    \u001b[0;31m# restore state no matter what (e.g., KeyboardInterrupt)\u001b[0m\u001b[0;34m\u001b[0m\u001b[0;34m\u001b[0m\u001b[0m\n\u001b[1;32m    294\u001b[0m             \u001b[0;32mif\u001b[0m \u001b[0mtimeout\u001b[0m \u001b[0;32mis\u001b[0m \u001b[0;32mNone\u001b[0m\u001b[0;34m:\u001b[0m\u001b[0;34m\u001b[0m\u001b[0;34m\u001b[0m\u001b[0m\n\u001b[0;32m--> 295\u001b[0;31m                 \u001b[0mwaiter\u001b[0m\u001b[0;34m.\u001b[0m\u001b[0macquire\u001b[0m\u001b[0;34m(\u001b[0m\u001b[0;34m)\u001b[0m\u001b[0;34m\u001b[0m\u001b[0;34m\u001b[0m\u001b[0m\n\u001b[0m\u001b[1;32m    296\u001b[0m                 \u001b[0mgotit\u001b[0m \u001b[0;34m=\u001b[0m \u001b[0;32mTrue\u001b[0m\u001b[0;34m\u001b[0m\u001b[0;34m\u001b[0m\u001b[0m\n\u001b[1;32m    297\u001b[0m             \u001b[0;32melse\u001b[0m\u001b[0;34m:\u001b[0m\u001b[0;34m\u001b[0m\u001b[0;34m\u001b[0m\u001b[0m\n",
            "\u001b[0;31mKeyboardInterrupt\u001b[0m: "
          ]
        }
      ]
    },
    {
      "cell_type": "markdown",
      "metadata": {
        "id": "U1rovbvlizXe"
      },
      "source": [
        ""
      ]
    },
    {
      "cell_type": "code",
      "metadata": {
        "id": "QrK2Ouz6SJCH"
      },
      "source": [
        "np.mean(sent_scores2)"
      ],
      "execution_count": null,
      "outputs": []
    },
    {
      "cell_type": "markdown",
      "metadata": {
        "id": "EJEQyoZPSJCP"
      },
      "source": [
        "## Identify Best Hyperparameters (GridSearchCV)"
      ]
    },
    {
      "cell_type": "code",
      "metadata": {
        "id": "txRO8AI5SJCR"
      },
      "source": [
        "from sklearn.model_selection import GridSearchCV \n",
        "\n",
        "# defining parameter range \n",
        "param_grid = {'C': [0.2, 2, 20, 200, 2000], \n",
        "            'gamma': [1, 0.1, 0.01, 0.001, 0.0001], \n",
        "            'kernel': ['rbf', 'linear', 'sigmoid', 'poly', 'precomputed']}\n",
        "\n",
        "grid = GridSearchCV(sent_oversample_SVM, param_grid, refit = False, verbose = 4, n_jobs = 4, cv = cv,\n",
        "                   scoring = 'f1_weighted', iid = True) \n",
        "\n",
        "# fitting the model for grid search \n",
        "grid.fit(sent_x2, sent_oversample_labels)\n"
      ],
      "execution_count": null,
      "outputs": []
    },
    {
      "cell_type": "code",
      "metadata": {
        "id": "8K8Sn8TGSJC2"
      },
      "source": [
        "# print best parameter after tuning \n",
        "print('Best Parameter: ',grid.best_params_, '\\n') \n",
        "\n",
        "# print how our model looks after hyper-parameter tuning \n",
        "print('The Hyperparameters: ',grid.best_estimator_) "
      ],
      "execution_count": null,
      "outputs": []
    },
    {
      "cell_type": "markdown",
      "metadata": {
        "id": "7Qk-FFA8SJDD"
      },
      "source": [
        "# Exploring Word2Vec"
      ]
    },
    {
      "cell_type": "markdown",
      "metadata": {
        "id": "_0c7ypLESJDE"
      },
      "source": [
        "## Let's see some Word2Vec magic to boost our confidence in our trained word2vec model"
      ]
    },
    {
      "cell_type": "code",
      "metadata": {
        "id": "UK09jxBISJDF"
      },
      "source": [
        "# picking out the odd word\n",
        "no_oversample_w2v_model2.wv.doesnt_match(['cherry', 'italy', 'apple', 'pineapple', 'tangerine'])"
      ],
      "execution_count": null,
      "outputs": []
    },
    {
      "cell_type": "code",
      "metadata": {
        "id": "vms5KP5DSJDL"
      },
      "source": [
        "# picking out the odd word\n",
        "no_oversample_w2v_model2.wv.doesnt_match(['arizona', 'michigan', 'texas', 'france', 'pennsylvania'])"
      ],
      "execution_count": null,
      "outputs": []
    },
    {
      "cell_type": "code",
      "metadata": {
        "id": "UkscwsqkSJDW"
      },
      "source": [
        "# let's see a random province in Portugal\n",
        "balanced_df[balanced_df['country'] == 'Portugal']['province'].unique()[0]"
      ],
      "execution_count": null,
      "outputs": []
    },
    {
      "cell_type": "code",
      "metadata": {
        "id": "YlUUaLJ4SJDh"
      },
      "source": [
        "#provinces in Canada\n",
        "balanced_df[balanced_df['country'] == 'Canada']['province'].unique()"
      ],
      "execution_count": null,
      "outputs": []
    },
    {
      "cell_type": "code",
      "metadata": {
        "id": "5--R2xelSJDm"
      },
      "source": [
        "# just like king - man + woman = queen, we want to prove that portugal - estremadura + ontario = canada\n",
        "print(no_oversample_w2v_model2.wv.most_similar(positive=['portugal', 'ontario'], negative=['estremadura']))"
      ],
      "execution_count": null,
      "outputs": []
    },
    {
      "cell_type": "markdown",
      "metadata": {
        "id": "96FpfSs9SJDt"
      },
      "source": [
        "### From the result above, 'Canada' is our model's best answer"
      ]
    },
    {
      "cell_type": "code",
      "metadata": {
        "id": "PXvomCnSSJDu"
      },
      "source": [
        "# let's see the most similar words to 'aroma'\n",
        "print(no_oversample_w2v_model2.wv.most_similar('aroma'))"
      ],
      "execution_count": null,
      "outputs": []
    },
    {
      "cell_type": "code",
      "metadata": {
        "id": "9enn8Z0GSJD0"
      },
      "source": [
        "# let's see the most similar words to 'orange'\n",
        "print(no_oversample_w2v_model2.wv.most_similar('orange'))"
      ],
      "execution_count": null,
      "outputs": []
    },
    {
      "cell_type": "markdown",
      "metadata": {
        "id": "ax6V-ZfHSJD5"
      },
      "source": [
        "### Word2Vec is powerful in capturing contexual semantics of words. Our Word2Vec model is doing that just right to a large extent."
      ]
    },
    {
      "cell_type": "code",
      "metadata": {
        "id": "0l9xM7B4SJD7"
      },
      "source": [
        ""
      ],
      "execution_count": null,
      "outputs": []
    }
  ]
}